{
 "cells": [
  {
   "cell_type": "code",
   "execution_count": 1,
   "metadata": {
    "collapsed": true
   },
   "outputs": [],
   "source": [
    "import pandas as pd\n",
    "import numpy as np"
   ]
  },
  {
   "cell_type": "code",
   "execution_count": 4,
   "outputs": [],
   "source": [
    "users = pd.read_csv('./dataset/users.dat', sep='::', header=None, engine='python')\n",
    "movies = pd.read_csv('./dataset/movies.dat', sep='::', header=None, engine='python', encoding = \"ISO-8859-1\")\n",
    "ratings_test = pd.read_csv('./dataset/ratings_test.dat', sep='::', header=None, engine='python')\n",
    "ratings_train = pd.read_csv('./dataset/ratings_train.dat', sep='::', header=None, engine='python')"
   ],
   "metadata": {
    "collapsed": false
   }
  },
  {
   "cell_type": "code",
   "execution_count": 5,
   "outputs": [],
   "source": [
    "users = users.rename(columns={\n",
    "    0 : 'UserID',\n",
    "    1 : 'Gender',\n",
    "    2 : 'Age',\n",
    "    3 : 'Occupation',\n",
    "    4 : 'Zip-code'\n",
    "})"
   ],
   "metadata": {
    "collapsed": false
   }
  },
  {
   "cell_type": "code",
   "execution_count": 6,
   "outputs": [],
   "source": [
    "movies = movies.rename(columns={\n",
    "    0 : 'MovieID',\n",
    "    1 : 'Title',\n",
    "    2 : 'Genres'\n",
    "})"
   ],
   "metadata": {
    "collapsed": false
   }
  },
  {
   "cell_type": "code",
   "execution_count": 7,
   "outputs": [],
   "source": [
    "ratings_test = ratings_test.rename(columns={\n",
    "    0 : 'UserID',\n",
    "    1 : 'MovieID',\n",
    "    2 : 'Rating',\n",
    "    3 : 'Timestamp'\n",
    "})"
   ],
   "metadata": {
    "collapsed": false
   }
  },
  {
   "cell_type": "code",
   "execution_count": 8,
   "outputs": [],
   "source": [
    "ratings_train = ratings_train.rename(columns={\n",
    "    0 : 'UserID',\n",
    "    1 : 'MovieID',\n",
    "    2 : 'Rating',\n",
    "    3 : 'Timestamp'\n",
    "})"
   ],
   "metadata": {
    "collapsed": false
   }
  },
  {
   "cell_type": "code",
   "execution_count": 9,
   "outputs": [],
   "source": [
    "user_movie_matrix = ratings_train.pivot(index = 'MovieID', columns = 'UserID', values = 'Rating')\n",
    "user_movie_matrix = user_movie_matrix.T"
   ],
   "metadata": {
    "collapsed": false
   }
  },
  {
   "cell_type": "code",
   "execution_count": 10,
   "outputs": [],
   "source": [
    "user_movie_matrix_orig = user_movie_matrix"
   ],
   "metadata": {
    "collapsed": false
   }
  },
  {
   "cell_type": "code",
   "execution_count": 23,
   "outputs": [],
   "source": [
    "user_movie_matrix = (user_movie_matrix - np.nanmean(user_movie_matrix, axis=1).reshape(-1, 1)) / np.nanstd(user_movie_matrix, axis=1).reshape(-1, 1)\n",
    "user_movie_matrix.fillna(0, inplace=True)"
   ],
   "metadata": {
    "collapsed": false
   }
  },
  {
   "cell_type": "code",
   "execution_count": 24,
   "outputs": [],
   "source": [
    "svd_decomposition = np.linalg.svd(user_movie_matrix.to_numpy())"
   ],
   "metadata": {
    "collapsed": false
   }
  },
  {
   "cell_type": "code",
   "execution_count": 32,
   "outputs": [],
   "source": [
    "factors_number = 20\n",
    "u = svd_decomposition[0][:, :factors_number]\n",
    "e = np.diag(svd_decomposition[1][:factors_number])\n",
    "v = svd_decomposition[2][:factors_number, :]"
   ],
   "metadata": {
    "collapsed": false
   }
  },
  {
   "cell_type": "code",
   "execution_count": 33,
   "outputs": [
    {
     "name": "stdout",
     "output_type": "stream",
     "text": [
      "0.9491200248419471\n",
      "0.906437499546492\n"
     ]
    }
   ],
   "source": [
    "r2 = np.matmul(u, e)\n",
    "r2 = np.matmul(r2, v)\n",
    "r2 = pd.DataFrame(r2)\n",
    "\n",
    "r2.columns = user_movie_matrix_orig.columns\n",
    "r2.index = user_movie_matrix_orig.index\n",
    "\n",
    "r2 = r2 * np.nanstd(user_movie_matrix_orig, axis=1).reshape(-1, 1) + np.nanmean(user_movie_matrix_orig, axis=1).reshape(-1, 1)\n",
    "r2[r2 > 5] = 5\n",
    "r2[r2 < 1] = 1\n",
    "\n",
    "rmse = 0\n",
    "for i in range(ratings_test.shape[0]):\n",
    "    user_id = ratings_test.iloc[i]['UserID']\n",
    "    movie_id = ratings_test.iloc[i]['MovieID']\n",
    "    rating = ratings_test.iloc[i]['Rating']\n",
    "    rmse += (r2.loc[user_id][movie_id] - rating) ** 2\n",
    "rmse = (rmse / ratings_test.shape[0]) ** 0.5\n",
    "print(rmse)\n",
    "\n",
    "rmse = 0\n",
    "for i in range(ratings_train.shape[0]):\n",
    "    user_id = ratings_train.iloc[i]['UserID']\n",
    "    movie_id = ratings_train.iloc[i]['MovieID']\n",
    "    rating = ratings_train.iloc[i]['Rating']\n",
    "    rmse += (r2.loc[user_id][movie_id] - rating) ** 2\n",
    "rmse = (rmse / ratings_train.shape[0]) ** 0.5\n",
    "print(rmse)"
   ],
   "metadata": {
    "collapsed": false
   }
  },
  {
   "cell_type": "code",
   "execution_count": 29,
   "outputs": [
    {
     "data": {
      "text/plain": "0.07299213033265774"
     },
     "execution_count": 29,
     "metadata": {},
     "output_type": "execute_result"
    }
   ],
   "source": [
    "n = 50\n",
    "sum(svd_decomposition[1][:n]) / sum(svd_decomposition[1])"
   ],
   "metadata": {
    "collapsed": false
   }
  }
 ],
 "metadata": {
  "kernelspec": {
   "display_name": "Python 3",
   "language": "python",
   "name": "python3"
  },
  "language_info": {
   "codemirror_mode": {
    "name": "ipython",
    "version": 2
   },
   "file_extension": ".py",
   "mimetype": "text/x-python",
   "name": "python",
   "nbconvert_exporter": "python",
   "pygments_lexer": "ipython2",
   "version": "2.7.6"
  }
 },
 "nbformat": 4,
 "nbformat_minor": 0
}
