{
 "cells": [
  {
   "cell_type": "code",
   "execution_count": 88,
   "metadata": {
    "collapsed": true
   },
   "outputs": [],
   "source": [
    "import pandas as pd\n",
    "import numpy as np"
   ]
  },
  {
   "cell_type": "code",
   "execution_count": 63,
   "outputs": [],
   "source": [
    "users = pd.read_csv('./dataset/users.dat', sep='::', header=None, engine='python')\n",
    "movies = pd.read_csv('./dataset/movies.dat', sep='::', header=None, engine='python', encoding = \"ISO-8859-1\")\n",
    "ratings_test = pd.read_csv('./dataset/ratings_test.dat', sep='::', header=None, engine='python')\n",
    "ratings_train = pd.read_csv('./dataset/ratings_train.dat', sep='::', header=None, engine='python')"
   ],
   "metadata": {
    "collapsed": false
   }
  },
  {
   "cell_type": "code",
   "execution_count": 64,
   "outputs": [],
   "source": [
    "users = users.rename(columns={\n",
    "    0 : 'UserID',\n",
    "    1 : 'Gender',\n",
    "    2 : 'Age',\n",
    "    3 : 'Occupation',\n",
    "    4 : 'Zip-code'\n",
    "})"
   ],
   "metadata": {
    "collapsed": false
   }
  },
  {
   "cell_type": "code",
   "execution_count": 65,
   "outputs": [],
   "source": [
    "movies = movies.rename(columns={\n",
    "    0 : 'MovieID',\n",
    "    1 : 'Title',\n",
    "    2 : 'Genres'\n",
    "})"
   ],
   "metadata": {
    "collapsed": false
   }
  },
  {
   "cell_type": "code",
   "execution_count": 66,
   "outputs": [],
   "source": [
    "ratings_test = ratings_test.rename(columns={\n",
    "    0 : 'UserID',\n",
    "    1 : 'MovieID',\n",
    "    2 : 'Rating',\n",
    "    3 : 'Timestamp'\n",
    "})"
   ],
   "metadata": {
    "collapsed": false
   }
  },
  {
   "cell_type": "code",
   "execution_count": 67,
   "outputs": [],
   "source": [
    "ratings_train = ratings_train.rename(columns={\n",
    "    0 : 'UserID',\n",
    "    1 : 'MovieID',\n",
    "    2 : 'Rating',\n",
    "    3 : 'Timestamp'\n",
    "})"
   ],
   "metadata": {
    "collapsed": false
   }
  },
  {
   "cell_type": "code",
   "execution_count": 9,
   "outputs": [],
   "source": [
    "user_movie_matrix = ratings_train.pivot(index = 'MovieID', columns = 'UserID', values = 'Rating')\n",
    "user_movie_matrix = user_movie_matrix.T"
   ],
   "metadata": {
    "collapsed": false
   }
  },
  {
   "cell_type": "code",
   "execution_count": 10,
   "outputs": [],
   "source": [
    "user_movie_matrix_orig = user_movie_matrix"
   ],
   "metadata": {
    "collapsed": false
   }
  },
  {
   "cell_type": "code",
   "execution_count": 23,
   "outputs": [],
   "source": [
    "user_movie_matrix = (user_movie_matrix - np.nanmean(user_movie_matrix, axis=1).reshape(-1, 1)) / np.nanstd(user_movie_matrix, axis=1).reshape(-1, 1)\n",
    "user_movie_matrix.fillna(0, inplace=True)"
   ],
   "metadata": {
    "collapsed": false
   }
  },
  {
   "cell_type": "code",
   "execution_count": 24,
   "outputs": [],
   "source": [
    "svd_decomposition = np.linalg.svd(user_movie_matrix.to_numpy())"
   ],
   "metadata": {
    "collapsed": false
   }
  },
  {
   "cell_type": "code",
   "execution_count": 32,
   "outputs": [],
   "source": [
    "factors_number = 20\n",
    "u = svd_decomposition[0][:, :factors_number]\n",
    "e = np.diag(svd_decomposition[1][:factors_number])\n",
    "v = svd_decomposition[2][:factors_number, :]"
   ],
   "metadata": {
    "collapsed": false
   }
  },
  {
   "cell_type": "code",
   "execution_count": 33,
   "outputs": [
    {
     "name": "stdout",
     "output_type": "stream",
     "text": [
      "0.9491200248419471\n",
      "0.906437499546492\n"
     ]
    }
   ],
   "source": [
    "r2 = np.matmul(u, e)\n",
    "r2 = np.matmul(r2, v)\n",
    "r2 = pd.DataFrame(r2)\n",
    "\n",
    "r2.columns = user_movie_matrix_orig.columns\n",
    "r2.index = user_movie_matrix_orig.index\n",
    "\n",
    "r2 = r2 * np.nanstd(user_movie_matrix_orig, axis=1).reshape(-1, 1) + np.nanmean(user_movie_matrix_orig, axis=1).reshape(-1, 1)\n",
    "r2[r2 > 5] = 5\n",
    "r2[r2 < 1] = 1\n",
    "\n",
    "rmse = 0\n",
    "for i in range(ratings_test.shape[0]):\n",
    "    user_id = ratings_test.iloc[i]['UserID']\n",
    "    movie_id = ratings_test.iloc[i]['MovieID']\n",
    "    rating = ratings_test.iloc[i]['Rating']\n",
    "    rmse += (r2.loc[user_id][movie_id] - rating) ** 2\n",
    "rmse = (rmse / ratings_test.shape[0]) ** 0.5\n",
    "print(rmse)\n",
    "\n",
    "rmse = 0\n",
    "for i in range(ratings_train.shape[0]):\n",
    "    user_id = ratings_train.iloc[i]['UserID']\n",
    "    movie_id = ratings_train.iloc[i]['MovieID']\n",
    "    rating = ratings_train.iloc[i]['Rating']\n",
    "    rmse += (r2.loc[user_id][movie_id] - rating) ** 2\n",
    "rmse = (rmse / ratings_train.shape[0]) ** 0.5\n",
    "print(rmse)"
   ],
   "metadata": {
    "collapsed": false
   }
  },
  {
   "cell_type": "code",
   "execution_count": 29,
   "outputs": [
    {
     "data": {
      "text/plain": "0.07299213033265774"
     },
     "execution_count": 29,
     "metadata": {},
     "output_type": "execute_result"
    }
   ],
   "source": [
    "n = 50\n",
    "sum(svd_decomposition[1][:n]) / sum(svd_decomposition[1])"
   ],
   "metadata": {
    "collapsed": false
   }
  },
  {
   "cell_type": "code",
   "execution_count": 89,
   "outputs": [],
   "source": [
    "model = pd.read_csv('./model/model.csv', index_col='UserID')"
   ],
   "metadata": {
    "collapsed": false
   }
  },
  {
   "cell_type": "code",
   "execution_count": 65,
   "outputs": [
    {
     "ename": "KeyError",
     "evalue": "\"None of [Index(['1', '1'], dtype='object')] are in the [index]\"",
     "output_type": "error",
     "traceback": [
      "\u001B[0;31m---------------------------------------------------------------------------\u001B[0m",
      "\u001B[0;31mKeyError\u001B[0m                                  Traceback (most recent call last)",
      "Cell \u001B[0;32mIn[65], line 1\u001B[0m\n\u001B[0;32m----> 1\u001B[0m \u001B[43mmodel\u001B[49m\u001B[38;5;241;43m.\u001B[39;49m\u001B[43mloc\u001B[49m\u001B[43m[\u001B[49m\u001B[43m[\u001B[49m\u001B[38;5;124;43m'\u001B[39;49m\u001B[38;5;124;43m1\u001B[39;49m\u001B[38;5;124;43m'\u001B[39;49m\u001B[43m,\u001B[49m\u001B[43m \u001B[49m\u001B[38;5;124;43m'\u001B[39;49m\u001B[38;5;124;43m1\u001B[39;49m\u001B[38;5;124;43m'\u001B[39;49m\u001B[43m]\u001B[49m\u001B[43m]\u001B[49m\n",
      "File \u001B[0;32m~/.local/lib/python3.10/site-packages/pandas/core/indexing.py:1073\u001B[0m, in \u001B[0;36m_LocationIndexer.__getitem__\u001B[0;34m(self, key)\u001B[0m\n\u001B[1;32m   1070\u001B[0m axis \u001B[38;5;241m=\u001B[39m \u001B[38;5;28mself\u001B[39m\u001B[38;5;241m.\u001B[39maxis \u001B[38;5;129;01mor\u001B[39;00m \u001B[38;5;241m0\u001B[39m\n\u001B[1;32m   1072\u001B[0m maybe_callable \u001B[38;5;241m=\u001B[39m com\u001B[38;5;241m.\u001B[39mapply_if_callable(key, \u001B[38;5;28mself\u001B[39m\u001B[38;5;241m.\u001B[39mobj)\n\u001B[0;32m-> 1073\u001B[0m \u001B[38;5;28;01mreturn\u001B[39;00m \u001B[38;5;28;43mself\u001B[39;49m\u001B[38;5;241;43m.\u001B[39;49m\u001B[43m_getitem_axis\u001B[49m\u001B[43m(\u001B[49m\u001B[43mmaybe_callable\u001B[49m\u001B[43m,\u001B[49m\u001B[43m \u001B[49m\u001B[43maxis\u001B[49m\u001B[38;5;241;43m=\u001B[39;49m\u001B[43maxis\u001B[49m\u001B[43m)\u001B[49m\n",
      "File \u001B[0;32m~/.local/lib/python3.10/site-packages/pandas/core/indexing.py:1301\u001B[0m, in \u001B[0;36m_LocIndexer._getitem_axis\u001B[0;34m(self, key, axis)\u001B[0m\n\u001B[1;32m   1298\u001B[0m     \u001B[38;5;28;01mif\u001B[39;00m \u001B[38;5;28mhasattr\u001B[39m(key, \u001B[38;5;124m\"\u001B[39m\u001B[38;5;124mndim\u001B[39m\u001B[38;5;124m\"\u001B[39m) \u001B[38;5;129;01mand\u001B[39;00m key\u001B[38;5;241m.\u001B[39mndim \u001B[38;5;241m>\u001B[39m \u001B[38;5;241m1\u001B[39m:\n\u001B[1;32m   1299\u001B[0m         \u001B[38;5;28;01mraise\u001B[39;00m \u001B[38;5;167;01mValueError\u001B[39;00m(\u001B[38;5;124m\"\u001B[39m\u001B[38;5;124mCannot index with multidimensional key\u001B[39m\u001B[38;5;124m\"\u001B[39m)\n\u001B[0;32m-> 1301\u001B[0m     \u001B[38;5;28;01mreturn\u001B[39;00m \u001B[38;5;28;43mself\u001B[39;49m\u001B[38;5;241;43m.\u001B[39;49m\u001B[43m_getitem_iterable\u001B[49m\u001B[43m(\u001B[49m\u001B[43mkey\u001B[49m\u001B[43m,\u001B[49m\u001B[43m \u001B[49m\u001B[43maxis\u001B[49m\u001B[38;5;241;43m=\u001B[39;49m\u001B[43maxis\u001B[49m\u001B[43m)\u001B[49m\n\u001B[1;32m   1303\u001B[0m \u001B[38;5;66;03m# nested tuple slicing\u001B[39;00m\n\u001B[1;32m   1304\u001B[0m \u001B[38;5;28;01mif\u001B[39;00m is_nested_tuple(key, labels):\n",
      "File \u001B[0;32m~/.local/lib/python3.10/site-packages/pandas/core/indexing.py:1239\u001B[0m, in \u001B[0;36m_LocIndexer._getitem_iterable\u001B[0;34m(self, key, axis)\u001B[0m\n\u001B[1;32m   1236\u001B[0m \u001B[38;5;28mself\u001B[39m\u001B[38;5;241m.\u001B[39m_validate_key(key, axis)\n\u001B[1;32m   1238\u001B[0m \u001B[38;5;66;03m# A collection of keys\u001B[39;00m\n\u001B[0;32m-> 1239\u001B[0m keyarr, indexer \u001B[38;5;241m=\u001B[39m \u001B[38;5;28;43mself\u001B[39;49m\u001B[38;5;241;43m.\u001B[39;49m\u001B[43m_get_listlike_indexer\u001B[49m\u001B[43m(\u001B[49m\u001B[43mkey\u001B[49m\u001B[43m,\u001B[49m\u001B[43m \u001B[49m\u001B[43maxis\u001B[49m\u001B[43m)\u001B[49m\n\u001B[1;32m   1240\u001B[0m \u001B[38;5;28;01mreturn\u001B[39;00m \u001B[38;5;28mself\u001B[39m\u001B[38;5;241m.\u001B[39mobj\u001B[38;5;241m.\u001B[39m_reindex_with_indexers(\n\u001B[1;32m   1241\u001B[0m     {axis: [keyarr, indexer]}, copy\u001B[38;5;241m=\u001B[39m\u001B[38;5;28;01mTrue\u001B[39;00m, allow_dups\u001B[38;5;241m=\u001B[39m\u001B[38;5;28;01mTrue\u001B[39;00m\n\u001B[1;32m   1242\u001B[0m )\n",
      "File \u001B[0;32m~/.local/lib/python3.10/site-packages/pandas/core/indexing.py:1432\u001B[0m, in \u001B[0;36m_LocIndexer._get_listlike_indexer\u001B[0;34m(self, key, axis)\u001B[0m\n\u001B[1;32m   1429\u001B[0m ax \u001B[38;5;241m=\u001B[39m \u001B[38;5;28mself\u001B[39m\u001B[38;5;241m.\u001B[39mobj\u001B[38;5;241m.\u001B[39m_get_axis(axis)\n\u001B[1;32m   1430\u001B[0m axis_name \u001B[38;5;241m=\u001B[39m \u001B[38;5;28mself\u001B[39m\u001B[38;5;241m.\u001B[39mobj\u001B[38;5;241m.\u001B[39m_get_axis_name(axis)\n\u001B[0;32m-> 1432\u001B[0m keyarr, indexer \u001B[38;5;241m=\u001B[39m \u001B[43max\u001B[49m\u001B[38;5;241;43m.\u001B[39;49m\u001B[43m_get_indexer_strict\u001B[49m\u001B[43m(\u001B[49m\u001B[43mkey\u001B[49m\u001B[43m,\u001B[49m\u001B[43m \u001B[49m\u001B[43maxis_name\u001B[49m\u001B[43m)\u001B[49m\n\u001B[1;32m   1434\u001B[0m \u001B[38;5;28;01mreturn\u001B[39;00m keyarr, indexer\n",
      "File \u001B[0;32m~/.local/lib/python3.10/site-packages/pandas/core/indexes/base.py:6070\u001B[0m, in \u001B[0;36mIndex._get_indexer_strict\u001B[0;34m(self, key, axis_name)\u001B[0m\n\u001B[1;32m   6067\u001B[0m \u001B[38;5;28;01melse\u001B[39;00m:\n\u001B[1;32m   6068\u001B[0m     keyarr, indexer, new_indexer \u001B[38;5;241m=\u001B[39m \u001B[38;5;28mself\u001B[39m\u001B[38;5;241m.\u001B[39m_reindex_non_unique(keyarr)\n\u001B[0;32m-> 6070\u001B[0m \u001B[38;5;28;43mself\u001B[39;49m\u001B[38;5;241;43m.\u001B[39;49m\u001B[43m_raise_if_missing\u001B[49m\u001B[43m(\u001B[49m\u001B[43mkeyarr\u001B[49m\u001B[43m,\u001B[49m\u001B[43m \u001B[49m\u001B[43mindexer\u001B[49m\u001B[43m,\u001B[49m\u001B[43m \u001B[49m\u001B[43maxis_name\u001B[49m\u001B[43m)\u001B[49m\n\u001B[1;32m   6072\u001B[0m keyarr \u001B[38;5;241m=\u001B[39m \u001B[38;5;28mself\u001B[39m\u001B[38;5;241m.\u001B[39mtake(indexer)\n\u001B[1;32m   6073\u001B[0m \u001B[38;5;28;01mif\u001B[39;00m \u001B[38;5;28misinstance\u001B[39m(key, Index):\n\u001B[1;32m   6074\u001B[0m     \u001B[38;5;66;03m# GH 42790 - Preserve name from an Index\u001B[39;00m\n",
      "File \u001B[0;32m~/.local/lib/python3.10/site-packages/pandas/core/indexes/base.py:6130\u001B[0m, in \u001B[0;36mIndex._raise_if_missing\u001B[0;34m(self, key, indexer, axis_name)\u001B[0m\n\u001B[1;32m   6128\u001B[0m     \u001B[38;5;28;01mif\u001B[39;00m use_interval_msg:\n\u001B[1;32m   6129\u001B[0m         key \u001B[38;5;241m=\u001B[39m \u001B[38;5;28mlist\u001B[39m(key)\n\u001B[0;32m-> 6130\u001B[0m     \u001B[38;5;28;01mraise\u001B[39;00m \u001B[38;5;167;01mKeyError\u001B[39;00m(\u001B[38;5;124mf\u001B[39m\u001B[38;5;124m\"\u001B[39m\u001B[38;5;124mNone of [\u001B[39m\u001B[38;5;132;01m{\u001B[39;00mkey\u001B[38;5;132;01m}\u001B[39;00m\u001B[38;5;124m] are in the [\u001B[39m\u001B[38;5;132;01m{\u001B[39;00maxis_name\u001B[38;5;132;01m}\u001B[39;00m\u001B[38;5;124m]\u001B[39m\u001B[38;5;124m\"\u001B[39m)\n\u001B[1;32m   6132\u001B[0m not_found \u001B[38;5;241m=\u001B[39m \u001B[38;5;28mlist\u001B[39m(ensure_index(key)[missing_mask\u001B[38;5;241m.\u001B[39mnonzero()[\u001B[38;5;241m0\u001B[39m]]\u001B[38;5;241m.\u001B[39munique())\n\u001B[1;32m   6133\u001B[0m \u001B[38;5;28;01mraise\u001B[39;00m \u001B[38;5;167;01mKeyError\u001B[39;00m(\u001B[38;5;124mf\u001B[39m\u001B[38;5;124m\"\u001B[39m\u001B[38;5;132;01m{\u001B[39;00mnot_found\u001B[38;5;132;01m}\u001B[39;00m\u001B[38;5;124m not in index\u001B[39m\u001B[38;5;124m\"\u001B[39m)\n",
      "\u001B[0;31mKeyError\u001B[0m: \"None of [Index(['1', '1'], dtype='object')] are in the [index]\""
     ]
    }
   ],
   "source": [
    "model.loc[['1', '1']]"
   ],
   "metadata": {
    "collapsed": false
   }
  },
  {
   "cell_type": "code",
   "execution_count": 66,
   "outputs": [
    {
     "data": {
      "text/plain": "   UserID         1         2        3         4         5        6         7  \\\n0       1  4.283278  4.166822  4.19144  4.165258  4.171907  4.16399  4.176286   \n\n         8         9  ...      3943      3944      3945      3946     3947  \\\n0  4.15714  4.153793  ...  4.153347  4.157951  4.153309  4.161254  4.15901   \n\n       3948      3949      3950      3951      3952  \n0  4.177563  4.167577  4.165588  4.162431  4.161565  \n\n[1 rows x 3701 columns]",
      "text/html": "<div>\n<style scoped>\n    .dataframe tbody tr th:only-of-type {\n        vertical-align: middle;\n    }\n\n    .dataframe tbody tr th {\n        vertical-align: top;\n    }\n\n    .dataframe thead th {\n        text-align: right;\n    }\n</style>\n<table border=\"1\" class=\"dataframe\">\n  <thead>\n    <tr style=\"text-align: right;\">\n      <th></th>\n      <th>UserID</th>\n      <th>1</th>\n      <th>2</th>\n      <th>3</th>\n      <th>4</th>\n      <th>5</th>\n      <th>6</th>\n      <th>7</th>\n      <th>8</th>\n      <th>9</th>\n      <th>...</th>\n      <th>3943</th>\n      <th>3944</th>\n      <th>3945</th>\n      <th>3946</th>\n      <th>3947</th>\n      <th>3948</th>\n      <th>3949</th>\n      <th>3950</th>\n      <th>3951</th>\n      <th>3952</th>\n    </tr>\n  </thead>\n  <tbody>\n    <tr>\n      <th>0</th>\n      <td>1</td>\n      <td>4.283278</td>\n      <td>4.166822</td>\n      <td>4.19144</td>\n      <td>4.165258</td>\n      <td>4.171907</td>\n      <td>4.16399</td>\n      <td>4.176286</td>\n      <td>4.15714</td>\n      <td>4.153793</td>\n      <td>...</td>\n      <td>4.153347</td>\n      <td>4.157951</td>\n      <td>4.153309</td>\n      <td>4.161254</td>\n      <td>4.15901</td>\n      <td>4.177563</td>\n      <td>4.167577</td>\n      <td>4.165588</td>\n      <td>4.162431</td>\n      <td>4.161565</td>\n    </tr>\n  </tbody>\n</table>\n<p>1 rows × 3701 columns</p>\n</div>"
     },
     "execution_count": 66,
     "metadata": {},
     "output_type": "execute_result"
    }
   ],
   "source": [
    "model[model['UserID'] == 1]"
   ],
   "metadata": {
    "collapsed": false
   }
  },
  {
   "cell_type": "code",
   "execution_count": 10,
   "outputs": [
    {
     "data": {
      "text/plain": "4.283278318981057"
     },
     "execution_count": 10,
     "metadata": {},
     "output_type": "execute_result"
    }
   ],
   "source": [
    "model[model['UserID'] == 1][str(1)].values[0]"
   ],
   "metadata": {
    "collapsed": false
   }
  },
  {
   "cell_type": "code",
   "execution_count": 1,
   "outputs": [],
   "source": [
    "import pandas as pd\n",
    "from tqdm import tqdm"
   ],
   "metadata": {
    "collapsed": false
   }
  },
  {
   "cell_type": "code",
   "execution_count": 20,
   "outputs": [],
   "source": [
    "ratings = pd.read_csv(\n",
    "    './dataset/ratings_test.dat', sep='::',\n",
    "    header=None,\n",
    "    engine='python',\n",
    "    names=['UserID', 'MovieID', 'Rating', 'Timestamp']\n",
    ")\n",
    "model = pd.read_csv('./model/model.csv')"
   ],
   "metadata": {
    "collapsed": false
   }
  },
  {
   "cell_type": "code",
   "execution_count": 21,
   "outputs": [
    {
     "name": "stderr",
     "output_type": "stream",
     "text": [
      "100%|██████████| 50005/50005 [00:44<00:00, 1131.18it/s]\n"
     ]
    }
   ],
   "source": [
    "def calculate_rmse(data):\n",
    "    data['difference'] = (data['predict'] - data['Rating']) ** 2\n",
    "    rmse = (sum(data['difference']) / data.shape[0]) ** 0.5\n",
    "\n",
    "    return rmse\n",
    "\n",
    "predicts = []\n",
    "for i in tqdm(range(ratings.shape[0])):\n",
    "    predicts.append(model[model['UserID'] == ratings.iloc[i]['UserID']][str(ratings.iloc[i]['MovieID'])].values[0])\n",
    "ratings['predict'] = predicts"
   ],
   "metadata": {
    "collapsed": false
   }
  },
  {
   "cell_type": "code",
   "execution_count": 22,
   "outputs": [
    {
     "data": {
      "text/plain": "0.9491200248419472"
     },
     "execution_count": 22,
     "metadata": {},
     "output_type": "execute_result"
    }
   ],
   "source": [
    "rmse = calculate_rmse(ratings)\n",
    "rmse"
   ],
   "metadata": {
    "collapsed": false
   }
  },
  {
   "cell_type": "code",
   "execution_count": 15,
   "outputs": [
    {
     "data": {
      "text/plain": "0.1825174741068789"
     },
     "execution_count": 15,
     "metadata": {},
     "output_type": "execute_result"
    }
   ],
   "source": [
    "import numpy as np\n",
    "import scipy.spatial.distance as ds\n",
    "\n",
    "vector_1 = np.array([1, 1, 1, 1])\n",
    "vector_2 = np.array([12, 20, 4, 3])\n",
    "\n",
    "dis = ds.cosine(vector_1, vector_2)\n",
    "dis"
   ],
   "metadata": {
    "collapsed": false
   }
  },
  {
   "cell_type": "code",
   "execution_count": null,
   "outputs": [],
   "source": [],
   "metadata": {
    "collapsed": false
   }
  },
  {
   "cell_type": "code",
   "execution_count": 29,
   "outputs": [
    {
     "data": {
      "text/plain": "2"
     },
     "execution_count": 29,
     "metadata": {},
     "output_type": "execute_result"
    }
   ],
   "source": [
    "2"
   ],
   "metadata": {
    "collapsed": false
   }
  },
  {
   "cell_type": "code",
   "execution_count": 40,
   "outputs": [
    {
     "data": {
      "text/plain": "MovieID                     926\nTitle      All About Eve (1950)\nGenres                    Drama\nName: 914, dtype: object"
     },
     "execution_count": 40,
     "metadata": {},
     "output_type": "execute_result"
    }
   ],
   "source": [
    "movies.sort_values(by='Title').iloc[105]"
   ],
   "metadata": {
    "collapsed": false
   }
  },
  {
   "cell_type": "code",
   "execution_count": 45,
   "outputs": [
    {
     "data": {
      "text/plain": "MovieID                               631\nTitle      All Dogs Go to Heaven 2 (1996)\nGenres       Animation|Children's|Musical\nName: 626, dtype: object"
     },
     "execution_count": 45,
     "metadata": {},
     "output_type": "execute_result"
    }
   ],
   "source": [
    "movies.sort_values(by='Title').iloc[108]"
   ],
   "metadata": {
    "collapsed": false
   }
  },
  {
   "cell_type": "code",
   "execution_count": 49,
   "outputs": [
    {
     "ename": "KeyError",
     "evalue": "1374",
     "output_type": "error",
     "traceback": [
      "\u001B[0;31m---------------------------------------------------------------------------\u001B[0m",
      "\u001B[0;31mKeyError\u001B[0m                                  Traceback (most recent call last)",
      "File \u001B[0;32m~/.local/lib/python3.10/site-packages/pandas/core/indexes/base.py:3802\u001B[0m, in \u001B[0;36mIndex.get_loc\u001B[0;34m(self, key, method, tolerance)\u001B[0m\n\u001B[1;32m   3801\u001B[0m \u001B[38;5;28;01mtry\u001B[39;00m:\n\u001B[0;32m-> 3802\u001B[0m     \u001B[38;5;28;01mreturn\u001B[39;00m \u001B[38;5;28;43mself\u001B[39;49m\u001B[38;5;241;43m.\u001B[39;49m\u001B[43m_engine\u001B[49m\u001B[38;5;241;43m.\u001B[39;49m\u001B[43mget_loc\u001B[49m\u001B[43m(\u001B[49m\u001B[43mcasted_key\u001B[49m\u001B[43m)\u001B[49m\n\u001B[1;32m   3803\u001B[0m \u001B[38;5;28;01mexcept\u001B[39;00m \u001B[38;5;167;01mKeyError\u001B[39;00m \u001B[38;5;28;01mas\u001B[39;00m err:\n",
      "File \u001B[0;32m~/.local/lib/python3.10/site-packages/pandas/_libs/index.pyx:138\u001B[0m, in \u001B[0;36mpandas._libs.index.IndexEngine.get_loc\u001B[0;34m()\u001B[0m\n",
      "File \u001B[0;32m~/.local/lib/python3.10/site-packages/pandas/_libs/index.pyx:165\u001B[0m, in \u001B[0;36mpandas._libs.index.IndexEngine.get_loc\u001B[0;34m()\u001B[0m\n",
      "File \u001B[0;32mpandas/_libs/hashtable_class_helper.pxi:5745\u001B[0m, in \u001B[0;36mpandas._libs.hashtable.PyObjectHashTable.get_item\u001B[0;34m()\u001B[0m\n",
      "File \u001B[0;32mpandas/_libs/hashtable_class_helper.pxi:5753\u001B[0m, in \u001B[0;36mpandas._libs.hashtable.PyObjectHashTable.get_item\u001B[0;34m()\u001B[0m\n",
      "\u001B[0;31mKeyError\u001B[0m: 1374",
      "\nThe above exception was the direct cause of the following exception:\n",
      "\u001B[0;31mKeyError\u001B[0m                                  Traceback (most recent call last)",
      "Cell \u001B[0;32mIn[49], line 6\u001B[0m\n\u001B[1;32m      4\u001B[0m similarity \u001B[38;5;241m=\u001B[39m \u001B[38;5;28mdict\u001B[39m()\n\u001B[1;32m      5\u001B[0m \u001B[38;5;28;01mfor\u001B[39;00m column \u001B[38;5;129;01min\u001B[39;00m predict\u001B[38;5;241m.\u001B[39mcolumns[\u001B[38;5;241m1\u001B[39m:]:\n\u001B[0;32m----> 6\u001B[0m     similarity[column] \u001B[38;5;241m=\u001B[39m ds\u001B[38;5;241m.\u001B[39mcosine(\u001B[43mpredict\u001B[49m\u001B[43m[\u001B[49m\u001B[43mmovie_id\u001B[49m\u001B[43m]\u001B[49m\u001B[38;5;241m.\u001B[39mto_numpy(), predict[column]\u001B[38;5;241m.\u001B[39mto_numpy())\n",
      "File \u001B[0;32m~/.local/lib/python3.10/site-packages/pandas/core/frame.py:3807\u001B[0m, in \u001B[0;36mDataFrame.__getitem__\u001B[0;34m(self, key)\u001B[0m\n\u001B[1;32m   3805\u001B[0m \u001B[38;5;28;01mif\u001B[39;00m \u001B[38;5;28mself\u001B[39m\u001B[38;5;241m.\u001B[39mcolumns\u001B[38;5;241m.\u001B[39mnlevels \u001B[38;5;241m>\u001B[39m \u001B[38;5;241m1\u001B[39m:\n\u001B[1;32m   3806\u001B[0m     \u001B[38;5;28;01mreturn\u001B[39;00m \u001B[38;5;28mself\u001B[39m\u001B[38;5;241m.\u001B[39m_getitem_multilevel(key)\n\u001B[0;32m-> 3807\u001B[0m indexer \u001B[38;5;241m=\u001B[39m \u001B[38;5;28;43mself\u001B[39;49m\u001B[38;5;241;43m.\u001B[39;49m\u001B[43mcolumns\u001B[49m\u001B[38;5;241;43m.\u001B[39;49m\u001B[43mget_loc\u001B[49m\u001B[43m(\u001B[49m\u001B[43mkey\u001B[49m\u001B[43m)\u001B[49m\n\u001B[1;32m   3808\u001B[0m \u001B[38;5;28;01mif\u001B[39;00m is_integer(indexer):\n\u001B[1;32m   3809\u001B[0m     indexer \u001B[38;5;241m=\u001B[39m [indexer]\n",
      "File \u001B[0;32m~/.local/lib/python3.10/site-packages/pandas/core/indexes/base.py:3804\u001B[0m, in \u001B[0;36mIndex.get_loc\u001B[0;34m(self, key, method, tolerance)\u001B[0m\n\u001B[1;32m   3802\u001B[0m     \u001B[38;5;28;01mreturn\u001B[39;00m \u001B[38;5;28mself\u001B[39m\u001B[38;5;241m.\u001B[39m_engine\u001B[38;5;241m.\u001B[39mget_loc(casted_key)\n\u001B[1;32m   3803\u001B[0m \u001B[38;5;28;01mexcept\u001B[39;00m \u001B[38;5;167;01mKeyError\u001B[39;00m \u001B[38;5;28;01mas\u001B[39;00m err:\n\u001B[0;32m-> 3804\u001B[0m     \u001B[38;5;28;01mraise\u001B[39;00m \u001B[38;5;167;01mKeyError\u001B[39;00m(key) \u001B[38;5;28;01mfrom\u001B[39;00m \u001B[38;5;21;01merr\u001B[39;00m\n\u001B[1;32m   3805\u001B[0m \u001B[38;5;28;01mexcept\u001B[39;00m \u001B[38;5;167;01mTypeError\u001B[39;00m:\n\u001B[1;32m   3806\u001B[0m     \u001B[38;5;66;03m# If we have a listlike key, _check_indexing_error will raise\u001B[39;00m\n\u001B[1;32m   3807\u001B[0m     \u001B[38;5;66;03m#  InvalidIndexError. Otherwise we fall through and re-raise\u001B[39;00m\n\u001B[1;32m   3808\u001B[0m     \u001B[38;5;66;03m#  the TypeError.\u001B[39;00m\n\u001B[1;32m   3809\u001B[0m     \u001B[38;5;28mself\u001B[39m\u001B[38;5;241m.\u001B[39m_check_indexing_error(key)\n",
      "\u001B[0;31mKeyError\u001B[0m: 1374"
     ]
    }
   ],
   "source": [
    "import scipy.spatial.distance as ds\n",
    "predict = pd.read_csv('./model/model.csv')\n",
    "movie_id = 1374\n",
    "similarity = dict()\n",
    "for column in predict.columns[1:]:\n",
    "    similarity[column] = ds.cosine(predict[movie_id].to_numpy(), predict[column].to_numpy())"
   ],
   "metadata": {
    "collapsed": false
   }
  },
  {
   "cell_type": "code",
   "execution_count": 20,
   "outputs": [
    {
     "ename": "AttributeError",
     "evalue": "'list' object has no attribute 'to_numpy'",
     "output_type": "error",
     "traceback": [
      "\u001B[0;31m---------------------------------------------------------------------------\u001B[0m",
      "\u001B[0;31mAttributeError\u001B[0m                            Traceback (most recent call last)",
      "Cell \u001B[0;32mIn[20], line 1\u001B[0m\n\u001B[0;32m----> 1\u001B[0m \u001B[43m[\u001B[49m\u001B[38;5;241;43m3\u001B[39;49m\u001B[43m]\u001B[49m\u001B[38;5;241;43m.\u001B[39;49m\u001B[43mto_numpy\u001B[49m()\n",
      "\u001B[0;31mAttributeError\u001B[0m: 'list' object has no attribute 'to_numpy'"
     ]
    }
   ],
   "source": [
    "[3].to_numpy()"
   ],
   "metadata": {
    "collapsed": false
   }
  },
  {
   "cell_type": "code",
   "execution_count": 12,
   "outputs": [],
   "source": [
    "movies_dict = dict(zip(movies['MovieID'], movies['Title']))"
   ],
   "metadata": {
    "collapsed": false
   }
  },
  {
   "cell_type": "code",
   "execution_count": 21,
   "outputs": [],
   "source": [
    "model = pd.read_csv('./model/model.csv', index_col='UserID')"
   ],
   "metadata": {
    "collapsed": false
   }
  },
  {
   "cell_type": "code",
   "execution_count": 15,
   "outputs": [],
   "source": [
    "def find_vectors_similarity(first_vector, second_vector):\n",
    "    return np.sum(np.abs(np.array(first_vector) - np.array(second_vector))) / len(first_vector)\n",
    "\n",
    "def find_movies_similarity(m1, m2):\n",
    "    return find_vectors_similarity(model[m1], model[m2])"
   ],
   "metadata": {
    "collapsed": false
   }
  },
  {
   "cell_type": "code",
   "execution_count": 73,
   "outputs": [
    {
     "data": {
      "text/plain": "0.4153069761545505"
     },
     "execution_count": 73,
     "metadata": {},
     "output_type": "execute_result"
    }
   ],
   "source": [
    "find_movies_similarity('108', '260')"
   ],
   "metadata": {
    "collapsed": false
   }
  },
  {
   "cell_type": "code",
   "execution_count": 79,
   "outputs": [
    {
     "data": {
      "text/plain": "3637.8540649069714"
     },
     "execution_count": 79,
     "metadata": {},
     "output_type": "execute_result"
    }
   ],
   "source": [
    "np.sum(np.abs(np.array(model['2858']) - np.array(model['260'])))"
   ],
   "metadata": {
    "collapsed": false
   }
  },
  {
   "cell_type": "code",
   "execution_count": 78,
   "outputs": [
    {
     "data": {
      "text/plain": "548.8849616799132"
     },
     "execution_count": 78,
     "metadata": {},
     "output_type": "execute_result"
    }
   ],
   "source": [
    "np.sum(np.abs(np.array(model['1196']) - np.array(model['260'])))"
   ],
   "metadata": {
    "collapsed": false
   }
  },
  {
   "cell_type": "code",
   "execution_count": 25,
   "outputs": [
    {
     "data": {
      "text/plain": "Index(['1', '2', '3', '4', '5', '6', '7', '8', '9', '10',\n       ...\n       '3943', '3944', '3945', '3946', '3947', '3948', '3949', '3950', '3951',\n       '3952'],\n      dtype='object', length=3700)"
     },
     "execution_count": 25,
     "metadata": {},
     "output_type": "execute_result"
    }
   ],
   "source": [
    "model.columns"
   ],
   "metadata": {
    "collapsed": false
   }
  },
  {
   "cell_type": "code",
   "execution_count": 14,
   "outputs": [
    {
     "data": {
      "text/plain": "{'UserID': 3020.5,\n '1': 3.851346155921636,\n '2': 3.6638210549872743,\n '3': 3.6730709267843307,\n '4': 3.686659528335323,\n '5': 3.68431359882563,\n '6': 3.743870047681229,\n '7': 3.688523297307924,\n '8': 3.698461197214876,\n '9': 3.6902889162618804,\n '10': 3.70050260760699,\n '11': 3.7274995086350335,\n '12': 3.6793633505739627,\n '13': 3.701728785848335,\n '14': 3.702253727674769,\n '15': 3.6820145121919383,\n '16': 3.7236016809659622,\n '17': 3.7435542835332427,\n '18': 3.701608749417993,\n '19': 3.6471393402395957,\n '20': 3.6845949521411083,\n '21': 3.706233449049566,\n '22': 3.6916464753877376,\n '23': 3.689882845152832,\n '24': 3.669800585920585,\n '25': 3.708937088032864,\n '26': 3.70478411709477,\n '27': 3.698721877433467,\n '28': 3.7126015905396668,\n '29': 3.7317584654422107,\n '30': 3.701453784942729,\n '31': 3.6936881255663447,\n '32': 3.78767436506385,\n '33': 3.702522488812609,\n '34': 3.766613193744199,\n '35': 3.6984502834117903,\n '36': 3.743104424301017,\n '37': 3.70297542705727,\n '38': 3.6987999210548046,\n '39': 3.703676128048099,\n '40': 3.7037162118557645,\n '41': 3.7179234242724113,\n '42': 3.6800097074987885,\n '43': 3.699217735295239,\n '44': 3.6709673629032022,\n '45': 3.691505971175658,\n '46': 3.6914582612499998,\n '47': 3.8043725864378897,\n '48': 3.6689071969473575,\n '49': 3.7036648002558628,\n '50': 3.9463198156796437,\n '52': 3.708338472334917,\n '53': 3.7033619599927534,\n '54': 3.6968227400104974,\n '55': 3.6995857186451495,\n '56': 3.7015460606333717,\n '57': 3.7018287196354955,\n '58': 3.7281006287522764,\n '59': 3.7029309740440213,\n '60': 3.6845578477087164,\n '61': 3.6989686597712454,\n '62': 3.714851403957233,\n '63': 3.6907292888727303,\n '64': 3.68959428363399,\n '65': 3.6733053094556802,\n '66': 3.6758681747016406,\n '67': 3.702962712183383,\n '68': 3.701166784228398,\n '69': 3.709677156285487,\n '70': 3.646797640140273,\n '71': 3.681871186735192,\n '72': 3.7039810003063165,\n '73': 3.7081318802441703,\n '74': 3.693879514008381,\n '75': 3.7007223521838832,\n '76': 3.684736836275776,\n '77': 3.703420782103283,\n '78': 3.6993578241631986,\n '79': 3.686703628086074,\n '80': 3.7027922215415243,\n '81': 3.696185612261091,\n '82': 3.705764557600178,\n '83': 3.7028463070741506,\n '84': 3.701468254289094,\n '85': 3.695864308246611,\n '86': 3.696515753060479,\n '87': 3.6921564157535696,\n '88': 3.689033567313115,\n '89': 3.6898576643847227,\n '90': 3.7031870745716158,\n '92': 3.688713530314499,\n '93': 3.6848281672545515,\n '94': 3.70944038687055,\n '95': 3.642546805033739,\n '96': 3.703252224813368,\n '97': 3.7048916888197945,\n '98': 3.7018183032890355,\n '99': 3.7023846702813032,\n '100': 3.6919752185035954,\n '101': 3.7126780780200863,\n '102': 3.6879134357755325,\n '103': 3.701766396106795,\n '104': 3.7035398838985767,\n '105': 3.682689236938301,\n '106': 3.7027960867873153,\n '107': 3.6904217439410383,\n '108': 3.7030493023048194,\n '110': 3.910601885650593,\n '111': 3.790479580988991,\n '112': 3.698338118528457,\n '113': 3.700031675506338,\n '114': 3.702842081453949,\n '116': 3.704871117095105,\n '117': 3.7038759404281087,\n '118': 3.7002018925803912,\n '119': 3.7016512366042638,\n '120': 3.7027244590804353,\n '121': 3.704887830160484,\n '122': 3.6840646956166916,\n '123': 3.706518254059691,\n '124': 3.70281914673513,\n '125': 3.71193881789987,\n '126': 3.6848922531474995,\n '127': 3.7029654404468264,\n '128': 3.7033031571412347,\n '129': 3.7029606418950016,\n '130': 3.702839815011793,\n '131': 3.702142764408268,\n '132': 3.6882341457874785,\n '133': 3.7029697840206963,\n '134': 3.7030081227343428,\n '135': 3.6916753636949458,\n '136': 3.7026858018695514,\n '137': 3.7021007939463173,\n '138': 3.702460289055869,\n '140': 3.6962502662588284,\n '141': 3.7011485056396274,\n '142': 3.702614595470469,\n '144': 3.6923304516648,\n '145': 3.692662638515761,\n '146': 3.70051978437122,\n '147': 3.703544404944009,\n '148': 3.7004627410082476,\n '149': 3.7032355449357253,\n '150': 3.7881096232469273,\n '151': 3.7081846944225942,\n '152': 3.7005207082681775,\n '153': 3.6102719242701093,\n '154': 3.7039770295378074,\n '155': 3.701281024909391,\n '156': 3.7022438192750284,\n '157': 3.683720102010032,\n '158': 3.6808184025871027,\n '159': 3.7000584457723495,\n '160': 3.596883689711997,\n '161': 3.7234397522309464,\n '162': 3.7241661318254864,\n '163': 3.6945564091137455,\n '164': 3.7009195447929204,\n '165': 3.708706310160756,\n '166': 3.694342378701836,\n '167': 3.7031213814544084,\n '168': 3.671099220000811,\n '169': 3.6809798150958835,\n '170': 3.6831821885654357,\n '171': 3.703187067595497,\n '172': 3.6469749087011567,\n '173': 3.607168496538884,\n '174': 3.6892523289599715,\n '175': 3.6989437624553805,\n '176': 3.710118749078178,\n '177': 3.6881509097401852,\n '178': 3.7021944070412554,\n '179': 3.694752272332491,\n '180': 3.7052025714279697,\n '181': 3.6773861282437124,\n '182': 3.699545914719258,\n '183': 3.7030998987698984,\n '184': 3.7013486860967064,\n '185': 3.64602505579382,\n '186': 3.6803370365251347,\n '187': 3.698953079651468,\n '188': 3.697006423430213,\n '189': 3.7022640555981665,\n '190': 3.7049374464315514,\n '191': 3.6922593289391292,\n '192': 3.7030383097579564,\n '193': 3.6518293198642424,\n '194': 3.708137484525324,\n '195': 3.689511734578537,\n '196': 3.6458443347972955,\n '197': 3.7023803673719984,\n '198': 3.683883336539157,\n '199': 3.70458849807161,\n '200': 3.7012375574604386,\n '201': 3.699943596154507,\n '202': 3.6999442904783266,\n '203': 3.688755589406125,\n '204': 3.682624376918504,\n '205': 3.702174628405912,\n '206': 3.7029634357441448,\n '207': 3.686917513659998,\n '208': 3.6194130337391726,\n '209': 3.695171840920576,\n '210': 3.7006288311233684,\n '211': 3.702984808697371,\n '212': 3.6996953896734857,\n '213': 3.707164489976553,\n '214': 3.705270020930479,\n '215': 3.7062877490311332,\n '216': 3.6853123697422054,\n '217': 3.6948267821659426,\n '218': 3.6928158667328095,\n '219': 3.702775345507511,\n '220': 3.6973309422816536,\n '222': 3.701601363371385,\n '223': 3.7796125460313745,\n '224': 3.6950522074388226,\n '225': 3.6891543888137326,\n '226': 3.7028981523673585,\n '227': 3.6876929657277064,\n '228': 3.7007447535557993,\n '229': 3.7020563385209773,\n '230': 3.6980173189353107,\n '231': 3.6673323739608032,\n '232': 3.720783640365174,\n '233': 3.700458379621339,\n '234': 3.676542468499895,\n '235': 3.7170067655771577,\n '236': 3.6941954650426756,\n '237': 3.683733074999402,\n '238': 3.7004111868161047,\n '239': 3.6893240985785942,\n '240': 3.6978922841006567,\n '241': 3.7022260420652144,\n '242': 3.700357208880056,\n '243': 3.7013899221417437,\n '244': 3.701045506789078,\n '245': 3.7018413504893637,\n '246': 3.752741030535827,\n '247': 3.716369997557133,\n '248': 3.691203287006107,\n '249': 3.7077337400751498,\n '250': 3.700474104717161,\n '251': 3.70350852363517,\n '252': 3.6888642571564634,\n '253': 3.7068013871514363,\n '254': 3.7006118364130076,\n '255': 3.6902331465019262,\n '256': 3.677042165167672,\n '257': 3.696444916686301,\n '258': 3.681975936289394,\n '259': 3.6941784606880232,\n '260': 4.029517360166951,\n '261': 3.706797360081748,\n '262': 3.707749128626372,\n '263': 3.7034098220317895,\n '264': 3.702752404602339,\n '265': 3.73079687916632,\n '266': 3.686826647064856,\n '267': 3.6915415806866525,\n '268': 3.7018931469666296,\n '269': 3.7032293546893578,\n '270': 3.696459507075815,\n '271': 3.699599459306583,\n '272': 3.7065145248301787,\n '273': 3.6810716627646793,\n '274': 3.6991931496052297,\n '275': 3.6918638438349523,\n '276': 3.676938046774037,\n '277': 3.694510790841841,\n '278': 3.6984152900541503,\n '279': 3.705038371155198,\n '280': 3.7057312266792213,\n '281': 3.702414642645757,\n '282': 3.694496937389935,\n '283': 3.702356697608529,\n '286': 3.7029677312333216,\n '287': 3.7010268910804998,\n '288': 3.661114483454217,\n '289': 3.69758299838392,\n '290': 3.7069308874462887,\n '291': 3.695185990306209,\n '292': 3.6733527939796256,\n '293': 3.776292350277387,\n '294': 3.6997517500721826,\n '295': 3.700456522753807,\n '296': 3.9082149448004153,\n '297': 3.7015231490581333,\n '298': 3.703918465984784,\n '299': 3.7032554247402283,\n '300': 3.72243769496185,\n '301': 3.7022809958377336,\n '302': 3.704674821672572,\n '303': 3.666695608715249,\n '304': 3.701978946871734,\n '305': 3.6874487694576117,\n '306': 3.725338962131535,\n '307': 3.719369065624696,\n '308': 3.7142974464044336,\n '309': 3.7030682888882525,\n '310': 3.702787587176684,\n '311': 3.702965738812213,\n '312': 3.6868925616736052,\n '313': 3.698343799328614,\n '314': 3.7084796441238255,\n '315': 3.688098383929606,\n '316': 3.6914415537374743,\n '317': 3.6672611402888804,\n '318': 3.996074225490779,\n '319': 3.7148541707551295,\n '320': 3.702899227528125,\n '321': 3.7045875145909295,\n '322': 3.7089535162216802,\n '324': 3.7041240356562217,\n '325': 3.6954258168278113,\n '326': 3.707514764369016,\n '327': 3.6628029109541203,\n '328': 3.695529502333371,\n '329': 3.6740913683108665,\n '330': 3.685316244321292,\n '331': 3.7015453789257733,\n '332': 3.6844292192687327,\n '333': 3.704100916518266,\n '334': 3.7026367559318976,\n '335': 3.7020377693588262,\n '336': 3.700730365629612,\n '337': 3.7307267038384535,\n '338': 3.684461132826777,\n '339': 3.6923707785822595,\n '340': 3.7024165883219555,\n '341': 3.703175310217253,\n '342': 3.708735864004996,\n '343': 3.697118468271295,\n '344': 3.672583055459301,\n '345': 3.717628540482125,\n '346': 3.7017867330907355,\n '347': 3.698949890864421,\n '348': 3.7085102034429145,\n '349': 3.72341096174045,\n '350': 3.68837054860315,\n '351': 3.696608354751626,\n '352': 3.6994222747307637,\n '353': 3.697958809771097,\n '354': 3.701206590052823,\n '355': 3.6571305697808847,\n '356': 3.850711540303958,\n '357': 3.7343390117593236,\n '358': 3.695976529579073,\n '359': 3.702133110479161,\n '360': 3.6853334922461096,\n '361': 3.6991507614594754,\n '362': 3.695947497669156,\n '363': 3.7056142277819832,\n '364': 3.750632574255682,\n '365': 3.699296642719309,\n '366': 3.678074880935441,\n '367': 3.6597494705053184,\n '368': 3.706510976119808,\n '369': 3.70056926079814,\n '370': 3.6728195315323537,\n '371': 3.690106289862944,\n '372': 3.6789662970352297,\n '373': 3.7099234962931256,\n '374': 3.667965696821372,\n '375': 3.702806952801435,\n '376': 3.6878713760152717,\n '377': 3.7026432541798826,\n '378': 3.691613173047739,\n '379': 3.6652436535112694,\n '380': 3.7154268348067285,\n '381': 3.694064218791124,\n '382': 3.6820243122828042,\n '383': 3.6936748894719122,\n '384': 3.698876776793652,\n '385': 3.7031967917705004,\n '386': 3.700350403100909,\n '387': 3.6915829263305775,\n '388': 3.7037956751114653,\n '389': 3.703158745007264,\n '390': 3.701075377344063,\n '391': 3.7009929932672985,\n '392': 3.701194471088925,\n '393': 3.6776275262726483,\n '394': 3.703014493554437,\n '396': 3.7029731642742707,\n '397': 3.7017819835188392,\n '398': 3.7030634001438947,\n '401': 3.702883113349472,\n '402': 3.7029671216705475,\n '404': 3.7031449230634372,\n '405': 3.659090502812546,\n '406': 3.702803913986905,\n '407': 3.684385098102544,\n '408': 3.7010563996556494,\n '409': 3.6994789276920135,\n '410': 3.6645129510296113,\n '411': 3.7015974256729876,\n '412': 3.697368264555041,\n '413': 3.673533138335279,\n '414': 3.69194244971358,\n '415': 3.676229569677385,\n '416': 3.68641372548547,\n '417': 3.6979700357461693,\n '418': 3.6990726293523557,\n '419': 3.6752475195739134,\n '420': 3.6542623620909627,\n '421': 3.700582570447021,\n '422': 3.7005926186591647,\n '423': 3.692371449922062,\n '424': 3.694527531752589,\n '425': 3.701659842560414,\n '426': 3.6859147524846354,\n '427': 3.672240499651597,\n '428': 3.7162531971032493,\n '429': 3.670343429908515,\n '430': 3.699293495891415,\n '431': 3.712322089408115,\n '432': 3.652681900198719,\n '433': 3.699477925554189,\n '434': 3.6581847497004087,\n '435': 3.6347332728204456,\n '436': 3.6869539598895638,\n '437': 3.69020521713345,\n '438': 3.6862673866477125,\n '439': 3.703185161853036,\n '440': 3.7328844458807504,\n '441': 3.716271407335583,\n '442': 3.6535253095100173,\n '443': 3.701321450234433,\n '444': 3.6868944154974743,\n '445': 3.6920034718802905,\n '446': 3.7170597504637164,\n '447': 3.6983385057567277,\n '448': 3.7041236484639235,\n '449': 3.703818751195482,\n '450': 3.6970129097277,\n '451': 3.6961768264436685,\n '452': 3.7019563433925766,\n '453': 3.701508476601373,\n '454': 3.703483983556567,\n '455': 3.666566251536749,\n '456': 3.708567188592258,\n '457': 3.84137704131751,\n '458': 3.6984844835520163,\n '459': 3.691618363828349,\n '460': 3.6935206937511476,\n '461': 3.7011884192634747,\n '462': 3.6988544659494207,\n '463': 3.698720104564253,\n '464': 3.679065638520661,\n '465': 3.701261299207819,\n '466': 3.63791227622251,\n '467': 3.699528764073573,\n '468': 3.6881683199064637,\n '469': 3.698217258689294,\n '470': 3.693684495154263,\n '471': 3.7167921198832445,\n '472': 3.6984166498586144,\n '473': 3.672688760234097,\n '474': 3.738673129915604,\n '475': 3.7215606166267876,\n '476': 3.6994414595952683,\n '477': 3.7029674114085753,\n '478': 3.6999706420793994,\n '479': 3.6928065615988226,\n '480': 3.7642764035406233,\n '481': 3.697413184652066,\n '482': 3.703129751248713,\n '483': 3.704397091211607,\n '484': 3.6983866293091734,\n '485': 3.632845261793975,\n '486': 3.6953522281568403,\n '487': 3.692237428983097,\n '488': 3.7016532625695944,\n '489': 3.6887156625924455,\n '490': 3.697738935277719,\n '491': 3.6988764392291227,\n '492': 3.704273912937623,\n '493': 3.705516494007535,\n '494': 3.6895040970540762,\n '495': 3.700566662945444,\n '496': 3.7010070810389935,\n '497': 3.7445492779337703,\n '498': 3.6970181936554294,\n '499': 3.698687029147573,\n '500': 3.6884041210264393,\n '501': 3.703075339602588,\n '502': 3.6710547118694725,\n '503': 3.702481828967881,\n '504': 3.6914920710028003,\n '505': 3.6940156219764275,\n '506': 3.701714935110668,\n '507': 3.705915839887821,\n '508': 3.7377463199480183,\n '509': 3.704264791292798,\n '510': 3.695099799776068,\n '511': 3.694961518705523,\n '512': 3.685942111931333,\n '513': 3.698742281826353,\n '514': 3.701268668443299,\n '515': 3.7162526512515766,\n '516': 3.679094993384909,\n '517': 3.6809247078015797,\n '518': 3.677912154530572,\n '519': 3.659171606018962,\n '520': 3.6704499123480976,\n '521': 3.702278846401544,\n '522': 3.7046631239958416,\n '523': 3.702849815101098,\n '524': 3.706340307231567,\n '525': 3.7032174878925526,\n '526': 3.702441182233282,\n '527': 3.971359349257569,\n '528': 3.693830765856602,\n '529': 3.745902183233101,\n '530': 3.70296710152517,\n '531': 3.709499932368157,\n '532': 3.672556154945388,\n '533': 3.6846044420716253,\n '534': 3.7099343157676423,\n '535': 3.7118915963708528,\n '536': 3.700919103731331,\n '537': 3.687411159723676,\n '538': 3.710753797846127,\n '539': 3.7214374216929786,\n '540': 3.667781096927511,\n '541': 3.8668339638896474,\n '542': 3.675670539776983,\n '543': 3.6952360829986493,\n '544': 3.689168049954554,\n '545': 3.7028997618404866,\n '546': 3.6259393061738363,\n '547': 3.6927514517641575,\n '548': 3.6838094571216002,\n '549': 3.7058901295373112,\n '550': 3.6899494168048044,\n '551': 3.730257859351117,\n '552': 3.6820540393641563,\n '553': 3.7335528834310585,\n '554': 3.7007598774606336,\n '555': 3.7345576475887885,\n '556': 3.711506909358676,\n '557': 3.70296907870477,\n '558': 3.68954561716838,\n '559': 3.7027942088819596,\n '560': 3.702729685685703,\n '561': 3.7030407905628895,\n '562': 3.716611733490224,\n '563': 3.701325160725833,\n '564': 3.694087334060018,\n '565': 3.6992577531508464,\n '566': 3.702149855726123,\n '567': 3.7028671020047703,\n '568': 3.70330044499228,\n '569': 3.6936572384581647,\n '570': 3.7026945823172284,\n '571': 3.70292943568344,\n '572': 3.703898802220424,\n '573': 3.7030671115886795,\n '574': 3.6973294678228754,\n '575': 3.6943864369827986,\n '576': 3.7029681010312925,\n '577': 3.6977799294116367,\n '578': 3.703146810411795,\n '580': 3.6997013043290066,\n '581': 3.7119518945001495,\n '582': 3.7029096088485636,\n '583': 3.70261756191588,\n '584': 3.7029821825818243,\n '585': 3.669727930948346,\n '586': 3.6709459590422178,\n '587': 3.6935740740425858,\n '588': 3.7455755260358923,\n '589': 3.8464303066125147,\n '590': 3.767502928452514,\n '591': 3.702898296468064,\n '592': 3.712866375508081,\n '593': 3.9618358750219516,\n '594': 3.7307473877040263,\n '595': 3.747719913607359,\n '596': 3.7184700848068832,\n '597': 3.7079873450968677,\n '598': 3.7033102686818062,\n '599': 3.7234212792421957,\n '600': 3.7014909529581255,\n '601': 3.703033664512672,\n '602': 3.7042263118950682,\n '603': 3.6996678200988717,\n '605': 3.695151992060282,\n '606': 3.685999168939018,\n '607': 3.7029546028636258,\n '608': 3.9057316439671137,\n '609': 3.6952128784454663,\n '610': 3.6942248633146617,\n '611': 3.674712367691802,\n '612': 3.6894287685344853,\n '613': 3.704045748921334,\n '614': 3.70260031775477,\n '615': 3.703945834296661,\n '616': 3.6934270641210354,\n '617': 3.7027460436010906,\n '618': 3.7015502372454385,\n '619': 3.698114099638179,\n '621': 3.701852412057761,\n '623': 3.702625295844715,\n '624': 3.702956721421462,\n '626': 3.701073973894811,\n '627': 3.7072624656915965,\n '628': 3.7279640404911873,\n '630': 3.7023703576624487,\n '631': 3.691566775237141,\n '632': 3.70406880878208,\n '633': 3.70287091189028,\n '634': 3.7021495860713176,\n '635': 3.7023937592047105,\n '637': 3.682429865577671,\n '638': 3.7026128240456617,\n '639': 3.6937162278731477,\n '640': 3.693673212345505,\n '641': 3.702552969512131,\n '642': 3.702952009228606,\n '643': 3.7028081022779644,\n '644': 3.7028241299915705,\n '645': 3.703289697454424,\n '647': 3.703419153056611,\n '648': 3.6651817264085427,\n '649': 3.704162060015956,\n '650': 3.7011476511231467,\n '651': 3.7028241299915705,\n '652': 3.701607428516523,\n '653': 3.670122036496873,\n '655': 3.7029260904593135,\n '656': 3.6978363128610643,\n '657': 3.702941582463785,\n '658': 3.702958423025571,\n '659': 3.703735158071982,\n '660': 3.702752986428105,\n '661': 3.6985265826290714,\n '662': 3.6910014061435765,\n '663': 3.7024663460748535,\n '664': 3.702574792717749,\n '665': 3.7023320740927406,\n '666': 3.702864911240896,\n '667': 3.693727848916597,\n '668': 3.707020783314565,\n '669': 3.7049153145681806,\n '670': 3.7069026178781224,\n '671': 3.708657755353136,\n '672': 3.702889782194587,\n '673': 3.639558997128553,\n '674': 3.6665137985333502,\n '678': 3.7281274978707666,\n '679': 3.7029542013786267,\n '680': 3.7016686793629616,\n '681': 3.703431457262401,\n '682': 3.7030751323773914,\n '684': 3.7029782000871996,\n '685': 3.7023815342790996,\n '687': 3.7024030292988153,\n '688': 3.672034521585152,\n '690': 3.702894520843451,\n '691': 3.6957163427413975,\n '692': 3.6832044709010074,\n '694': 3.6865872660886487,\n '695': 3.6950837499408005,\n '696': 3.7027392594380855,\n '697': 3.6921923738287052,\n '698': 3.7028865424984643,\n '700': 3.702514988793922,\n '701': 3.7029821825818243,\n '702': 3.703810397219993,\n '703': 3.7007482924997883,\n '704': 3.6958964989450553,\n '705': 3.7046171669683656,\n '706': 3.7026807926857086,\n '707': 3.683871479327973,\n '708': 3.688530972425963,\n '709': 3.694607743623283,\n '710': 3.694876594116118,\n '711': 3.6943949450860334,\n '712': 3.7030557583855095,\n '714': 3.712236822087727,\n '715': 3.703780680977694,\n '716': 3.7006109621327523,\n '717': 3.703006711095902,\n '718': 3.7035129557462154,\n '719': 3.6811631894284402,\n '720': 3.7565214123633863,\n '722': 3.7032733917552556,\n '724': 3.674277565527753,\n '725': 3.6950221119199376,\n '726': 3.7022508730212995,\n '728': 3.7072050421331726,\n '729': 3.702792244607922,\n '730': 3.703112945651837,\n '731': 3.6977819048331346,\n '732': 3.702488478930941,\n '733': 3.728257190098636,\n '734': 3.7028566363543653,\n '735': 3.700947196951876,\n '736': 3.6429594831253698,\n '737': 3.6410487167726995,\n '741': 3.727704314109215,\n '742': 3.681979236752275,\n '743': 3.689370415726709,\n '744': 3.7027395230686295,\n '745': 3.785871741307654,\n '746': 3.7046214460651163,\n '747': 3.6925962600733824,\n '748': 3.673292372050454,\n '749': 3.7028686276383427,\n '750': 3.860264388436762,\n '751': 3.7027304801648495,\n '753': 3.7013166387154866,\n '754': 3.701989506181765,\n '755': 3.7032086223190492,\n '756': 3.7027903562015303,\n '757': 3.7032903961387085,\n '758': 3.7028792129124675,\n '759': 3.7059268680378885,\n '760': 3.702876181667854,\n '761': 3.686888948035951,\n '762': 3.6418124642656786,\n '764': 3.699219915360567,\n '765': 3.6847101961458,\n '766': 3.7032898665483143,\n '767': 3.7023882585654593,\n '769': 3.702701034530111,\n '771': 3.7034265824010926,\n '774': 3.703006711095902,\n '775': 3.702723080862333,\n '776': 3.702687433869179,\n '778': 3.7408638589882472,\n '779': 3.6977144725812807,\n '780': 3.6859324862517293,\n '781': 3.7010908700552743,\n '782': 3.683191175638416,\n '783': 3.687087206797374,\n '784': 3.659476290567437,\n '785': 3.6930816740871584,\n '786': 3.6739330983380447,\n '787': 3.7037574561184483,\n '788': 3.627777780167653,\n '789': 3.7030157916162167,\n '790': 3.702920024651408,\n '791': 3.7027867584319556,\n '792': 3.703009116627272,\n '793': 3.702474122617814,\n '796': 3.702864198466648,\n '798': 3.679543224404946,\n '799': 3.699662447451321,\n '800': 3.74635719882942,\n '801': 3.6961476502162833,\n '802': 3.701561373799355,\n '803': 3.7037134041928783,\n '804': 3.6887974791479623,\n '805': 3.7077334150040047,\n '806': 3.699544321729664,\n '807': 3.7021226652060046,\n '808': 3.70070326895365,\n '809': 3.6895737846090357,\n '810': 3.672392324413374,\n '811': 3.703161043220671,\n '813': 3.6972717772243096,\n '814': 3.7029798307231387,\n '815': 3.702129690373916,\n '818': 3.677646125498469,\n '820': 3.703019330699363,\n '821': 3.7026244106700075,\n '823': 3.702816755746762,\n '824': 3.703116526620556,\n '826': 3.7028811292890564,\n '827': 3.7029977854973626,\n '828': 3.698234376444882,\n '829': 3.6861999348409142,\n '830': 3.6791136896482475,\n '831': 3.70400268712602,\n '832': 3.7007651413157863,\n '833': 3.687422267485433,\n '834': 3.701991762415225,\n '835': 3.6961707202153438,\n '836': 3.6727547107064056,\n '837': 3.7002113631848856,\n '838': 3.71999750888852,\n '839': 3.6769012035720037,\n '840': 3.695484300257241,\n '841': 3.7027892164129406,\n '842': 3.6812430595184202,\n '843': 3.702836165287943,\n '844': 3.7030781717102554,\n '846': 3.703268230363822,\n '847': 3.702139086968299,\n '848': 3.70438737409291,\n '849': 3.6285483167037653,\n '850': 3.703098264788528,\n '851': 3.7011639913783947,\n '852': 3.673950877068318,\n '853': 3.703261208125934,\n '854': 3.7029516476784274,\n '858': 3.9672276613793946,\n '860': 3.7034792111735126,\n '861': 3.7013484038412394,\n '862': 3.703033928990986,\n '863': 3.702652142168697,\n '864': 3.7033156681008386,\n '865': 3.70269709231095,\n '866': 3.726683665971094,\n '867': 3.6993915161932565,\n '868': 3.702863912846969,\n '869': 3.7002879557310275,\n '870': 3.693701872256051,\n '872': 3.702956232612406,\n '874': 3.702467401702312,\n '875': 3.703587353807966,\n '876': 3.7005885136118533,\n '877': 3.7035989765732786,\n '878': 3.7029877555809443,\n '879': 3.6769786196861722,\n '880': 3.635443265258281,\n '881': 3.694082894584139,\n '882': 3.6962675587422087,\n '884': 3.7028593824949647,\n '885': 3.698546265888206,\n '886': 3.6947420948402794,\n '887': 3.702660481556122,\n '888': 3.6939573620833905,\n '889': 3.7028845109020074,\n '891': 3.6748663530024173,\n '892': 3.7081295651757116,\n '893': 3.704171043293429,\n '895': 3.702758158586608,\n '896': 3.7023704013589063,\n '897': 3.7040842549021886,\n '898': 3.7505803997182006,\n '899': 3.770825222199474,\n '900': 3.7120546881255585,\n '901': 3.7034612269161404,\n '902': 3.7324915402088834,\n '903': 3.786576284039586,\n '904': 3.8293846744795363,\n '905': 3.735864788530606,\n '906': 3.7170990435201223,\n '907': 3.7089144133483383,\n '908': 3.8309425522514267,\n '909': 3.73269461919844,\n '910': 3.7761372873291577,\n '911': 3.7260902827302105,\n '912': 3.8837451836716474,\n '913': 3.8091943228811256,\n '914': 3.7478974582795437,\n '915': 3.7234640474751854,\n '916': 3.737594983602981,\n '917': 3.7031522699489248,\n '918': 3.7028803652001363,\n '919': 3.8459180740767804,\n '920': 3.7469457865600893,\n '921': 3.7114572460786275,\n '922': 3.7556976956329384,\n '923': 3.8273360385426707,\n '924': 3.7970901816719116,\n '925': 3.7022431455020386,\n '926': 3.741685126886588,\n '927': 3.7070189082455562,\n '928': 3.734971701715276,\n '929': 3.7058040289828043,\n '930': 3.746677726908276,\n '931': 3.711776121742125,\n '932': 3.70893851882001,\n '933': 3.7325545327775282,\n '934': 3.7083935267107093,\n '935': 3.703172936083146,\n '936': 3.7104560943804943,\n '937': 3.703811586928956,\n '938': 3.704064499242498,\n '939': 3.7026995725534126,\n '940': 3.7262024736391712,\n '941': 3.7066782675908705,\n '942': 3.7220216532078942,\n '943': 3.7124520004408246,\n '944': 3.7077280970513664,\n '945': 3.7204885084616173,\n '946': 3.7089855210575062,\n '947': 3.713934123499607,\n '948': 3.7071404867522273,\n '949': 3.710290190279623,\n '950': 3.728650981157565,\n '951': 3.7377186561657987,\n '952': 3.69889566967499,\n '953': 3.790019613306241,\n '954': 3.7454825717795965,\n '955': 3.733921111207319,\n '956': 3.7025505271337753,\n '957': 3.702183960418423,\n '958': 3.703041192513701,\n '959': 3.7040632142168377,\n '960': 3.7031309443628917,\n '961': 3.702241417602398,\n '962': 3.703812182977022,\n '963': 3.703006568666408,\n '964': 3.703099750017957,\n '965': 3.7219377661162527,\n '966': 3.7032572655242952,\n '967': 3.701561237590526,\n '968': 3.7041665444969563,\n '969': 3.7811726510262877,\n '970': 3.7022174607988663,\n '971': 3.719390650817341,\n '972': 3.7021607917748716,\n '973': 3.707871052431388,\n '974': 3.7039097549658453,\n '975': 3.7028283802766127,\n '976': 3.70197049791346,\n '977': 3.7026699785277617,\n '978': 3.7063372443962073,\n '980': 3.703497837197557,\n '981': 3.7025470338494766,\n '982': 3.7030270772204408,\n '984': 3.6984563675923647,\n '985': 3.7028196706112806,\n '986': 3.7004989247098976,\n '987': 3.698651379473815,\n '988': 3.7011770839836107,\n '990': 3.696016659601593,\n '991': 3.7021318180015688,\n '992': 3.700065515729491,\n '993': 3.70257834588217,\n '994': 3.7297997309566417,\n '996': 3.680054997976167,\n '997': 3.702445915636984,\n '998': 3.697573302118788,\n '999': 3.6914184180062093,\n '1000': 3.7011093898060263,\n '1002': 3.703464350203474,\n '1003': 3.693267273992522,\n '1004': 3.690603016753109,\n '1005': 3.684743485685333,\n '1006': 3.696512470768133,\n '1007': 3.685655661786456,\n '1008': 3.7000123648476038,\n '1009': 3.6865342768976213,\n '1010': 3.6916562702330316,\n '1011': 3.688022053081946,\n '1012': 3.7134061994382135,\n '1013': 3.7012165225882754,\n '1014': 3.6982224781137516,\n '1015': 3.699020398790962,\n '1016': 3.696220463426127,\n '1017': 3.703536546694928,\n '1018': 3.694470106749633,\n '1019': 3.71047172765434,\n '1020': 3.683824302524565,\n '1021': 3.680803456927528,\n '1022': 3.714868658547445,\n '1023': 3.723031465147355,\n '1024': 3.6980184795492406,\n '1025': 3.707307836641098,\n '1026': 3.702877815017639,\n '1027': 3.685026871296941,\n '1028': 3.7398610901018903,\n '1029': 3.7133598393103333,\n '1030': 3.6818933646020935,\n '1031': 3.696577116909312,\n '1032': 3.71317621505271,\n '1033': 3.69957701286652,\n '1034': 3.7049859107685426,\n '1035': 3.749058325552561,\n '1036': 3.824968015947224,\n '1037': 3.626451280308085,\n '1038': 3.702485542484201,\n '1039': 3.703082709244491,\n '1040': 3.702390524730682,\n '1041': 3.7186134358667338,\n '1042': 3.696518523906591,\n '1043': 3.6923257677329255,\n '1044': 3.7020285304893115,\n '1046': 3.706699097230195,\n '1047': 3.699882613178571,\n '1049': 3.6847961871288004,\n '1050': 3.709503739429953,\n '1051': 3.7010594698692647,\n '1053': 3.7002064750155546,\n '1054': 3.699943156880952,\n '1055': 3.700542397304692,\n '1056': 3.7029423568990376,\n '1057': 3.704755397803061,\n '1058': 3.7021106503193653,\n '1059': 3.693977843775254,\n '1060': 3.746305569455575,\n '1061': 3.70542815337519,\n '1062': 3.702906381738677,\n '1063': 3.7014047928450733,\n '1064': 3.685265933804819,\n '1066': 3.7138798421271053,\n '1067': 3.70347173536602,\n '1068': 3.7041494835980195,\n '1069': 3.7082947644696196,\n '1070': 3.7027148369173486,\n '1071': 3.7027060772709035,\n '1073': 3.752686654696583,\n ...}"
     },
     "execution_count": 14,
     "metadata": {},
     "output_type": "execute_result"
    }
   ],
   "source": [
    "model.mean(axis=0).to_dict()"
   ],
   "metadata": {
    "collapsed": false
   }
  },
  {
   "cell_type": "code",
   "execution_count": null,
   "outputs": [],
   "source": [],
   "metadata": {
    "collapsed": false
   }
  },
  {
   "cell_type": "code",
   "execution_count": 60,
   "outputs": [
    {
     "data": {
      "text/plain": "[['356', '3114', '2028', '1721', '318'],\n [4.9756006048381085,\n  4.795837586303361,\n  4.733773349338423,\n  4.723267595887378,\n  4.715783642138396]]"
     },
     "execution_count": 60,
     "metadata": {},
     "output_type": "execute_result"
    }
   ],
   "source": [
    "count = 5\n",
    "movies_ratings = [['1','2','3','4','5'],[5,3,4,2,5]]\n",
    "\n",
    "movies_ids = movies_ratings[0]\n",
    "ratings = movies_ratings[1]\n",
    "predicted_ratings = model\n",
    "predicted_ratings['similarity'] = [\n",
    "    find_vectors_similarity(\n",
    "        predicted_ratings.loc[i][movies_ids],\n",
    "        ratings\n",
    "    ) for i in predicted_ratings.index\n",
    "]\n",
    "predicted_ratings = predicted_ratings.sort_values(by='similarity').iloc[:5]\n",
    "predicted_ratings = predicted_ratings.drop(columns=movies_ids)\n",
    "predicted_ratings = predicted_ratings.drop(columns=['similarity'])\n",
    "mean_ratings = predicted_ratings.mean(axis=0).to_dict()\n",
    "best_movies = list(\n",
    "    {\n",
    "        k: v for k, v in sorted(mean_ratings.items(), key=lambda x: x[1], reverse=True)\n",
    "    }.items()\n",
    ")[:count]\n",
    "\n",
    "[[item[0] for item in best_movies], [item[1] for item in best_movies]]"
   ],
   "metadata": {
    "collapsed": false
   }
  },
  {
   "cell_type": "code",
   "execution_count": 61,
   "outputs": [
    {
     "data": {
      "text/plain": "UserID\n1       4.492624\n2       4.461854\n3       3.791523\n4       4.247388\n5       2.214560\n          ...   \n6036    3.268777\n6037    4.117754\n6038    3.841795\n6039    3.605733\n6040    3.384796\nName: 356, Length: 6040, dtype: float64"
     },
     "execution_count": 61,
     "metadata": {},
     "output_type": "execute_result"
    }
   ],
   "source": [
    "model['356']"
   ],
   "metadata": {
    "collapsed": false
   }
  },
  {
   "cell_type": "code",
   "execution_count": 92,
   "outputs": [
    {
     "data": {
      "text/plain": "MovieID               1167\nTitle      Dear God (1996)\nGenres              Comedy\nName: 1151, dtype: object"
     },
     "execution_count": 92,
     "metadata": {},
     "output_type": "execute_result"
    }
   ],
   "source": [
    "movies.sort_values(by='Title').iloc[910]"
   ],
   "metadata": {
    "collapsed": false
   }
  }
 ],
 "metadata": {
  "kernelspec": {
   "display_name": "Python 3",
   "language": "python",
   "name": "python3"
  },
  "language_info": {
   "codemirror_mode": {
    "name": "ipython",
    "version": 2
   },
   "file_extension": ".py",
   "mimetype": "text/x-python",
   "name": "python",
   "nbconvert_exporter": "python",
   "pygments_lexer": "ipython2",
   "version": "2.7.6"
  }
 },
 "nbformat": 4,
 "nbformat_minor": 0
}
